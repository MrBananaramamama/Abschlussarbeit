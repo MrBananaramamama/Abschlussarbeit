{
 "cells": [
  {
   "cell_type": "markdown",
   "metadata": {},
   "source": [
    "## Daten putzen"
   ]
  },
  {
   "cell_type": "code",
   "execution_count": null,
   "metadata": {},
   "outputs": [],
   "source": [
    "#Hier werden die ziemlich schmutzigen Daten zusammengeführt und dann geputzt. \n",
    "#Leider muss ein Teil des putzens manuell erfolgen, da, wie im Scarper beschrieben, viele Daten nicht einheitlich erfasst wurden. \n",
    "#Ausserdem gilt es anzumerken, dass es einige Firmen gibt, bei denen keine Meldungen im Register gespeichert sind. \n",
    "#Erwähnenswerte, welche keine Einträge im Register haben sind: Swatch Group, Richemont und Lindt."
   ]
  },
  {
   "cell_type": "code",
   "execution_count": 3,
   "metadata": {},
   "outputs": [],
   "source": [
    "import pandas as pd\n",
    "from bs4 import BeautifulSoup\n",
    "import requests\n",
    "import numpy as np\n",
    "import glob\n",
    "%matplotlib inline"
   ]
  },
  {
   "cell_type": "code",
   "execution_count": null,
   "metadata": {},
   "outputs": [],
   "source": [
    "path = r'MASTER_Files' # öffnen\n",
    "all_files = glob.glob(path + \"/*.csv\")\n",
    "\n",
    "li = []\n",
    "\n",
    "#Alle Files/Firmen aus dem Ordner automatisiert zu einem DF concatten!\n",
    "for filename in all_files:\n",
    "    df = pd.read_csv(filename, index_col=None, header=0)\n",
    "    li.append(df)\n",
    "\n",
    "Alle_Firmen = pd.concat(li, axis=0, ignore_index=True, sort=False)"
   ]
  },
  {
   "cell_type": "code",
   "execution_count": null,
   "metadata": {},
   "outputs": [],
   "source": [
    "#Mal alles doppelte Löschen\n",
    "Alle_Firmen_drop = Alle_Firmen.drop_duplicates(keep='first')"
   ]
  },
  {
   "cell_type": "code",
   "execution_count": null,
   "metadata": {},
   "outputs": [],
   "source": [
    "#CSV-Alle Firmen speichern, dann manuell putzen\n",
    "Alle_Firmen_drop.to_csv(r'Master_File_UNgeputzt.csv')"
   ]
  },
  {
   "cell_type": "code",
   "execution_count": null,
   "metadata": {},
   "outputs": [],
   "source": [
    "Alle_Firmen_drop"
   ]
  },
  {
   "cell_type": "code",
   "execution_count": null,
   "metadata": {},
   "outputs": [],
   "source": [
    "#Nun das manuell geputzte File noch automatisiert fertig stellen:\n",
    "Firmen_Liste = pd.read_csv('MASTER_Firmen_geputzt.csv')  "
   ]
  },
  {
   "cell_type": "code",
   "execution_count": null,
   "metadata": {},
   "outputs": [],
   "source": [
    "#mal besser formatieren, weg mit whitespaces\n",
    "Firmen_Liste['Country'] = Firmen_Liste['Country'].str.strip()"
   ]
  },
  {
   "cell_type": "code",
   "execution_count": null,
   "metadata": {
    "scrolled": true
   },
   "outputs": [],
   "source": [
    "Firmen_Liste['Country'].value_counts().tail(50)"
   ]
  },
  {
   "cell_type": "code",
   "execution_count": null,
   "metadata": {},
   "outputs": [],
   "source": [
    "#Länder Namen vereinheitlichen\n",
    "Firmen_Liste['Country'] = Firmen_Liste['Country'].replace('Switzerland', 'Schweiz')\n",
    "Firmen_Liste['Country'] = Firmen_Liste['Country'].replace('Switerzland', 'Schweiz')\n",
    "Firmen_Liste['Country'] = Firmen_Liste['Country'].replace('Germany', 'Deutschland')\n",
    "Firmen_Liste['Country'] = Firmen_Liste['Country'].replace('Switerland', 'Schweiz')\n",
    "Firmen_Liste['Country'] = Firmen_Liste['Country'].replace('Winterthur', 'Schweiz')\n",
    "Firmen_Liste['Country'] = Firmen_Liste['Country'].replace('Zürich', 'Schweiz')\n",
    "Firmen_Liste['Country'] = Firmen_Liste['Country'].replace('United Kingdom', 'UK')\n",
    "Firmen_Liste['Country'] = Firmen_Liste['Country'].replace('London', 'UK')\n",
    "Firmen_Liste['Country'] = Firmen_Liste['Country'].replace('United States of America', 'USA')\n",
    "Firmen_Liste['Country'] = Firmen_Liste['Country'].replace('U.S.A.', 'USA')\n",
    "Firmen_Liste['Country'] = Firmen_Liste['Country'].replace('Arabische Emirate', 'United Arab Emirates')\n",
    "Firmen_Liste['Country'] = Firmen_Liste['Country'].replace('Austria', 'Österreich')\n",
    "Firmen_Liste['Country'] = Firmen_Liste['Country'].replace('Vienna', 'Österreich') \n",
    "Firmen_Liste['Country'] = Firmen_Liste['Country'].replace('FRANCE', 'France') \n",
    "Firmen_Liste['Country'] = Firmen_Liste['Country'].replace('Pays-Bas', 'Niederlande')\n",
    "Firmen_Liste['Country'] = Firmen_Liste['Country'].replace('Netherlands', 'Niederlande')\n",
    "Firmen_Liste['Country'] = Firmen_Liste['Country'].replace('officers and directors', 'Schweiz')\n",
    "Firmen_Liste['Country'] = Firmen_Liste['Country'].replace('The Netherlands', 'Niederlande')\n",
    "Firmen_Liste['Country'] = Firmen_Liste['Country'].replace('Norwegen', 'Norway')\n",
    "Firmen_Liste['Country'] = Firmen_Liste['Country'].replace('Kanada', 'Canada')\n",
    "Firmen_Liste['Country'] = Firmen_Liste['Country'].replace('Mythenquai 50', 'Schweiz')\n",
    "Firmen_Liste['Country'] = Firmen_Liste['Country'].replace('Schindler Gruppe', 'Schweiz')\n",
    "Firmen_Liste['Country'] = Firmen_Liste['Country'].replace('Rüschlikon', 'Schweiz')\n",
    "Firmen_Liste['Country'] = Firmen_Liste['Country'].replace('Luzern', 'Schweiz')\n",
    "Firmen_Liste['Country'] = Firmen_Liste['Country'].replace('Sweitzerland', 'Schweiz')\n",
    "Firmen_Liste['Country'] = Firmen_Liste['Country'].replace('England', 'UK')\n",
    "Firmen_Liste['Country'] = Firmen_Liste['Country'].replace('Hombrechtikon', 'Schweiz')\n",
    "Firmen_Liste['Country'] = Firmen_Liste['Country'].replace('US', 'USA')\n",
    "Firmen_Liste['Country'] = Firmen_Liste['Country'].replace('Schaffhausen', 'Schweiz')\n",
    "Firmen_Liste['Country'] = Firmen_Liste['Country'].replace('Suisse', 'Schweiz')\n",
    "Firmen_Liste['Country'] = Firmen_Liste['Country'].replace('St. Gallen', 'Schweiz')\n",
    "Firmen_Liste['Country'] = Firmen_Liste['Country'].replace('Schweden ', 'Sweden')"
   ]
  },
  {
   "cell_type": "code",
   "execution_count": null,
   "metadata": {},
   "outputs": [],
   "source": [
    "Firmen_Liste['BO'].value_counts().head(50)"
   ]
  },
  {
   "cell_type": "code",
   "execution_count": null,
   "metadata": {},
   "outputs": [],
   "source": [
    "#Blackrock ist auch immer mal wieder falsch geschrieben\n",
    "Firmen_Liste['BO'] = Firmen_Liste['BO'].replace('BlackRock, Inc.', 'Blackrock')\n",
    "Firmen_Liste['BO'] = Firmen_Liste['BO'].replace('BlackRock Inc.', 'Blackrock')\n",
    "Firmen_Liste['BO'] = Firmen_Liste['BO'].replace(\"BlackRock, Inc. (Mother Company)\", 'Blackrock')\n",
    "Firmen_Liste['BO'] = Firmen_Liste['BO'].replace('BlackRock, Inc.,', 'Blackrock')\n",
    "Firmen_Liste['BO'] = Firmen_Liste['BO'].replace(\"BlackRock Inc. (Mother Company)\", 'Blackrock')\n",
    "Firmen_Liste['BO'] = Firmen_Liste['BO'].replace(\"BlackRock, Inc., New York, NY, U.S.A. (Mother Company)\", 'Blackrock')\n",
    "SMI_Merge['BO'] = SMI_Merge['BO'].replace('BlackRock, Inc., New York, NY, U.S.A. (Mother Company)', 'Blackrock')\n"
   ]
  },
  {
   "cell_type": "code",
   "execution_count": null,
   "metadata": {},
   "outputs": [],
   "source": []
  },
  {
   "cell_type": "code",
   "execution_count": null,
   "metadata": {},
   "outputs": [],
   "source": [
    "#UND NUN: Die fertige Liste exportieren!\n",
    "\n",
    "Firmen_Liste.to_csv(r'Master_File_FERTIG.csv')"
   ]
  }
 ],
 "metadata": {
  "kernelspec": {
   "display_name": "Python 3",
   "language": "python",
   "name": "python3"
  },
  "language_info": {
   "codemirror_mode": {
    "name": "ipython",
    "version": 3
   },
   "file_extension": ".py",
   "mimetype": "text/x-python",
   "name": "python",
   "nbconvert_exporter": "python",
   "pygments_lexer": "ipython3",
   "version": "3.7.6"
  }
 },
 "nbformat": 4,
 "nbformat_minor": 2
}
